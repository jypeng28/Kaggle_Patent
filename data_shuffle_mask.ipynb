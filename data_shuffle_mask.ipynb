{
 "cells": [
  {
   "cell_type": "code",
   "execution_count": 3,
   "id": "cb2c4fe2-ef99-47ef-92c2-7aa216b9c879",
   "metadata": {},
   "outputs": [],
   "source": [
    "import uuid\n",
    "import os\n",
    "INPUT_DIR = './data/'\n",
    "OUTPUT_DIR = './roberta/'+str(uuid.uuid1())+'/'\n",
    "if not os.path.exists(OUTPUT_DIR):\n",
    "    os.makedirs(OUTPUT_DIR)\n",
    "\n",
    "from shutil import copyfile\n",
    "import gc\n",
    "import re\n",
    "import ast\n",
    "import sys\n",
    "import copy\n",
    "\n",
    "import json\n",
    "import time\n",
    "import math\n",
    "import shutil\n",
    "import string\n",
    "import pickle\n",
    "import random\n",
    "import itertools\n",
    "from pathlib import Path\n",
    "import warnings\n",
    "from FGM import FGM\n",
    "os.environ[\"TOKENIZERS_PARALLELISM\"] = \"true\"\n",
    "warnings.filterwarnings(\"ignore\")\n",
    "import scipy as sp\n",
    "import numpy as np\n",
    "import pandas as pd\n",
    "from tqdm.auto import tqdm\n",
    "from sklearn.metrics import f1_score\n",
    "from sklearn.model_selection import StratifiedKFold, GroupKFold, KFold\n",
    "import torch\n",
    "import torch.nn as nn\n",
    "from torch.nn import Parameter\n",
    "import torch.nn.functional as F\n",
    "from torch.optim import Adam, SGD, AdamW\n",
    "from torch.utils.data import DataLoader, Dataset\n",
    "import tokenizers\n",
    "import transformers\n",
    "from transformers import AutoTokenizer, AutoModel, AutoConfig\n",
    "from transformers import get_linear_schedule_with_warmup, get_cosine_schedule_with_warmup\n",
    "from model import CustomModel\n",
    "from CFG_roberta import CFG\n",
    "from utils import get_cpc_texts, get_logger, get_score, seed_everything, AverageMeter, asMinutes, timeSince\n",
    "from data_utils import prepare_input, TrainDataset\n",
    "\n",
    "device = torch.device('cuda:0')\n"
   ]
  },
  {
   "cell_type": "code",
   "execution_count": 2,
   "id": "aea3240d-8b05-4b69-a334-6e1e7fdd12ba",
   "metadata": {},
   "outputs": [],
   "source": [
    "train = pd.read_csv(INPUT_DIR+'train.csv')\n",
    "cpc_texts = get_cpc_texts()\n",
    "torch.save(cpc_texts, OUTPUT_DIR+\"cpc_texts.pth\")\n",
    "train['context_text'] = train['context'].map(cpc_texts)\n"
   ]
  },
  {
   "cell_type": "code",
   "execution_count": 3,
   "id": "e7d35652-f2ac-460b-9410-63f458dba680",
   "metadata": {},
   "outputs": [],
   "source": [
    "context_text = list(train['context_text'])"
   ]
  },
  {
   "cell_type": "code",
   "execution_count": 4,
   "id": "e2293e59-bb81-44be-a71e-eea91f9b6311",
   "metadata": {},
   "outputs": [],
   "source": [
    "context_text_list = []\n",
    "\n",
    "for context_text_item in context_text:\n",
    "    tmp_phrases = context_text_item.split('.')\n",
    "    phrases = []\n",
    "    for tmp_phrase in tmp_phrases:\n",
    "        tmp_p = tmp_phrase.split(';')\n",
    "        for itm in tmp_p:\n",
    "            phrases.append(itm.strip(' '))\n",
    "    context_text_list.append(phrases)"
   ]
  },
  {
   "cell_type": "code",
   "execution_count": 5,
   "id": "3b136b41-29c9-484a-ab8c-beee9dbed6e2",
   "metadata": {},
   "outputs": [],
   "source": [
    "train = train.drop(['context'],axis=1).drop(['id'],axis=1)"
   ]
  },
  {
   "cell_type": "code",
   "execution_count": 6,
   "id": "45825390-27ce-4811-856c-b9c009caab23",
   "metadata": {},
   "outputs": [],
   "source": [
    "raw_cnt = train.shape[0]"
   ]
  },
  {
   "cell_type": "code",
   "execution_count": 7,
   "id": "7aaf7ed5-6239-4acc-9067-09b825cf728b",
   "metadata": {},
   "outputs": [
    {
     "data": {
      "text/html": [
       "<div>\n",
       "<style scoped>\n",
       "    .dataframe tbody tr th:only-of-type {\n",
       "        vertical-align: middle;\n",
       "    }\n",
       "\n",
       "    .dataframe tbody tr th {\n",
       "        vertical-align: top;\n",
       "    }\n",
       "\n",
       "    .dataframe thead th {\n",
       "        text-align: right;\n",
       "    }\n",
       "</style>\n",
       "<table border=\"1\" class=\"dataframe\">\n",
       "  <thead>\n",
       "    <tr style=\"text-align: right;\">\n",
       "      <th></th>\n",
       "      <th>anchor</th>\n",
       "      <th>target</th>\n",
       "      <th>score</th>\n",
       "      <th>context_text</th>\n",
       "    </tr>\n",
       "  </thead>\n",
       "  <tbody>\n",
       "    <tr>\n",
       "      <th>0</th>\n",
       "      <td>abatement</td>\n",
       "      <td>abatement of pollution</td>\n",
       "      <td>0.50</td>\n",
       "      <td>HUMAN NECESSITIES. FURNITURE; DOMESTIC ARTICLE...</td>\n",
       "    </tr>\n",
       "    <tr>\n",
       "      <th>1</th>\n",
       "      <td>abatement</td>\n",
       "      <td>act of abating</td>\n",
       "      <td>0.75</td>\n",
       "      <td>HUMAN NECESSITIES. FURNITURE; DOMESTIC ARTICLE...</td>\n",
       "    </tr>\n",
       "    <tr>\n",
       "      <th>2</th>\n",
       "      <td>abatement</td>\n",
       "      <td>active catalyst</td>\n",
       "      <td>0.25</td>\n",
       "      <td>HUMAN NECESSITIES. FURNITURE; DOMESTIC ARTICLE...</td>\n",
       "    </tr>\n",
       "    <tr>\n",
       "      <th>3</th>\n",
       "      <td>abatement</td>\n",
       "      <td>eliminating process</td>\n",
       "      <td>0.50</td>\n",
       "      <td>HUMAN NECESSITIES. FURNITURE; DOMESTIC ARTICLE...</td>\n",
       "    </tr>\n",
       "    <tr>\n",
       "      <th>4</th>\n",
       "      <td>abatement</td>\n",
       "      <td>forest region</td>\n",
       "      <td>0.00</td>\n",
       "      <td>HUMAN NECESSITIES. FURNITURE; DOMESTIC ARTICLE...</td>\n",
       "    </tr>\n",
       "    <tr>\n",
       "      <th>...</th>\n",
       "      <td>...</td>\n",
       "      <td>...</td>\n",
       "      <td>...</td>\n",
       "      <td>...</td>\n",
       "    </tr>\n",
       "    <tr>\n",
       "      <th>36468</th>\n",
       "      <td>wood article</td>\n",
       "      <td>wooden article</td>\n",
       "      <td>1.00</td>\n",
       "      <td>PERFORMING OPERATIONS; TRANSPORTING. DECORATIV...</td>\n",
       "    </tr>\n",
       "    <tr>\n",
       "      <th>36469</th>\n",
       "      <td>wood article</td>\n",
       "      <td>wooden box</td>\n",
       "      <td>0.50</td>\n",
       "      <td>PERFORMING OPERATIONS; TRANSPORTING. DECORATIV...</td>\n",
       "    </tr>\n",
       "    <tr>\n",
       "      <th>36470</th>\n",
       "      <td>wood article</td>\n",
       "      <td>wooden handle</td>\n",
       "      <td>0.50</td>\n",
       "      <td>PERFORMING OPERATIONS; TRANSPORTING. DECORATIV...</td>\n",
       "    </tr>\n",
       "    <tr>\n",
       "      <th>36471</th>\n",
       "      <td>wood article</td>\n",
       "      <td>wooden material</td>\n",
       "      <td>0.75</td>\n",
       "      <td>PERFORMING OPERATIONS; TRANSPORTING. DECORATIV...</td>\n",
       "    </tr>\n",
       "    <tr>\n",
       "      <th>36472</th>\n",
       "      <td>wood article</td>\n",
       "      <td>wooden substrate</td>\n",
       "      <td>0.50</td>\n",
       "      <td>PERFORMING OPERATIONS; TRANSPORTING. DECORATIV...</td>\n",
       "    </tr>\n",
       "  </tbody>\n",
       "</table>\n",
       "<p>36473 rows × 4 columns</p>\n",
       "</div>"
      ],
      "text/plain": [
       "             anchor                  target  score  \\\n",
       "0         abatement  abatement of pollution   0.50   \n",
       "1         abatement          act of abating   0.75   \n",
       "2         abatement         active catalyst   0.25   \n",
       "3         abatement     eliminating process   0.50   \n",
       "4         abatement           forest region   0.00   \n",
       "...             ...                     ...    ...   \n",
       "36468  wood article          wooden article   1.00   \n",
       "36469  wood article              wooden box   0.50   \n",
       "36470  wood article           wooden handle   0.50   \n",
       "36471  wood article         wooden material   0.75   \n",
       "36472  wood article        wooden substrate   0.50   \n",
       "\n",
       "                                            context_text  \n",
       "0      HUMAN NECESSITIES. FURNITURE; DOMESTIC ARTICLE...  \n",
       "1      HUMAN NECESSITIES. FURNITURE; DOMESTIC ARTICLE...  \n",
       "2      HUMAN NECESSITIES. FURNITURE; DOMESTIC ARTICLE...  \n",
       "3      HUMAN NECESSITIES. FURNITURE; DOMESTIC ARTICLE...  \n",
       "4      HUMAN NECESSITIES. FURNITURE; DOMESTIC ARTICLE...  \n",
       "...                                                  ...  \n",
       "36468  PERFORMING OPERATIONS; TRANSPORTING. DECORATIV...  \n",
       "36469  PERFORMING OPERATIONS; TRANSPORTING. DECORATIV...  \n",
       "36470  PERFORMING OPERATIONS; TRANSPORTING. DECORATIV...  \n",
       "36471  PERFORMING OPERATIONS; TRANSPORTING. DECORATIV...  \n",
       "36472  PERFORMING OPERATIONS; TRANSPORTING. DECORATIV...  \n",
       "\n",
       "[36473 rows x 4 columns]"
      ]
     },
     "execution_count": 7,
     "metadata": {},
     "output_type": "execute_result"
    }
   ],
   "source": [
    "train"
   ]
  },
  {
   "cell_type": "code",
   "execution_count": 8,
   "id": "1e2fc974-7e80-4e20-8603-c070b9825f99",
   "metadata": {},
   "outputs": [
    {
     "name": "stdout",
     "output_type": "stream",
     "text": [
      "0\n",
      "5000\n",
      "10000\n",
      "15000\n",
      "20000\n",
      "25000\n",
      "30000\n",
      "35000\n"
     ]
    }
   ],
   "source": [
    "failure = 0\n",
    "for i in range(raw_cnt):\n",
    "    if i%5000 == 0:\n",
    "        print(i)\n",
    "    len_words = len(context_text_list[i])\n",
    "    if len_words < 2:\n",
    "        failure += 1\n",
    "    random.shuffle(context_text_list[i])\n",
    "    context_generated = ''\n",
    "    for j in range(len_words):\n",
    "        context_generated += context_text_list[i][j]\n",
    "        context_generated += ' '\n",
    "    context_generated.strip()\n",
    "    train.loc[raw_cnt+i-failure] = {'anchor':train.loc[i]['anchor'],'target':train.loc[i]['target'],\\\n",
    "                            'score':train.loc[i]['score'],'context_text':context_generated}"
   ]
  },
  {
   "cell_type": "code",
   "execution_count": 9,
   "id": "2d786f54-ac0e-45a2-b426-98332e3f9f48",
   "metadata": {},
   "outputs": [
    {
     "data": {
      "text/plain": [
       "anchor             display object\n",
       "target               process user\n",
       "score                         0.5\n",
       "context_text    PHYSICS HOROLOGY \n",
       "Name: 46211, dtype: object"
      ]
     },
     "execution_count": 9,
     "metadata": {},
     "output_type": "execute_result"
    }
   ],
   "source": [
    "train.loc[46211]"
   ]
  },
  {
   "cell_type": "code",
   "execution_count": 10,
   "id": "84a27dfb-299a-477b-99b3-b930a726653f",
   "metadata": {},
   "outputs": [
    {
     "data": {
      "text/plain": [
       "anchor             display object\n",
       "target               process user\n",
       "score                         0.5\n",
       "context_text    PHYSICS. HOROLOGY\n",
       "Name: 9738, dtype: object"
      ]
     },
     "execution_count": 10,
     "metadata": {},
     "output_type": "execute_result"
    }
   ],
   "source": [
    "train.loc[46211-raw_cnt]"
   ]
  },
  {
   "cell_type": "code",
   "execution_count": 11,
   "id": "fa6a9cb6-cc4f-417b-ae87-7aa5f3593310",
   "metadata": {},
   "outputs": [
    {
     "data": {
      "text/plain": [
       "0"
      ]
     },
     "execution_count": 11,
     "metadata": {},
     "output_type": "execute_result"
    }
   ],
   "source": [
    "failure"
   ]
  },
  {
   "cell_type": "code",
   "execution_count": 13,
   "id": "e115c19e-96aa-4b23-a432-3a21e8cfd09c",
   "metadata": {},
   "outputs": [
    {
     "data": {
      "text/plain": [
       "72946"
      ]
     },
     "execution_count": 13,
     "metadata": {},
     "output_type": "execute_result"
    }
   ],
   "source": [
    "len(train)"
   ]
  },
  {
   "cell_type": "code",
   "execution_count": 14,
   "id": "35058cea-7405-4e71-bce5-1f56dac73c0c",
   "metadata": {},
   "outputs": [],
   "source": [
    "train.to_csv('train_shuffled.csv',index=False)"
   ]
  },
  {
   "cell_type": "code",
   "execution_count": 11,
   "id": "ce114ee0-a826-4de0-b149-28eba226ae53",
   "metadata": {},
   "outputs": [],
   "source": [
    "train_shuffled = pd.read_csv('./data/train_shuffled.csv')"
   ]
  },
  {
   "cell_type": "code",
   "execution_count": 12,
   "id": "2e814c79-a03b-4c8a-9891-accf51aeb347",
   "metadata": {},
   "outputs": [
    {
     "data": {
      "text/html": [
       "<div>\n",
       "<style scoped>\n",
       "    .dataframe tbody tr th:only-of-type {\n",
       "        vertical-align: middle;\n",
       "    }\n",
       "\n",
       "    .dataframe tbody tr th {\n",
       "        vertical-align: top;\n",
       "    }\n",
       "\n",
       "    .dataframe thead th {\n",
       "        text-align: right;\n",
       "    }\n",
       "</style>\n",
       "<table border=\"1\" class=\"dataframe\">\n",
       "  <thead>\n",
       "    <tr style=\"text-align: right;\">\n",
       "      <th></th>\n",
       "      <th>anchor</th>\n",
       "      <th>target</th>\n",
       "      <th>score</th>\n",
       "      <th>context_text</th>\n",
       "    </tr>\n",
       "  </thead>\n",
       "  <tbody>\n",
       "    <tr>\n",
       "      <th>0</th>\n",
       "      <td>abatement</td>\n",
       "      <td>abatement of pollution</td>\n",
       "      <td>0.50</td>\n",
       "      <td>HUMAN NECESSITIES. FURNITURE; DOMESTIC ARTICLE...</td>\n",
       "    </tr>\n",
       "    <tr>\n",
       "      <th>1</th>\n",
       "      <td>abatement</td>\n",
       "      <td>act of abating</td>\n",
       "      <td>0.75</td>\n",
       "      <td>HUMAN NECESSITIES. FURNITURE; DOMESTIC ARTICLE...</td>\n",
       "    </tr>\n",
       "    <tr>\n",
       "      <th>2</th>\n",
       "      <td>abatement</td>\n",
       "      <td>active catalyst</td>\n",
       "      <td>0.25</td>\n",
       "      <td>HUMAN NECESSITIES. FURNITURE; DOMESTIC ARTICLE...</td>\n",
       "    </tr>\n",
       "    <tr>\n",
       "      <th>3</th>\n",
       "      <td>abatement</td>\n",
       "      <td>eliminating process</td>\n",
       "      <td>0.50</td>\n",
       "      <td>HUMAN NECESSITIES. FURNITURE; DOMESTIC ARTICLE...</td>\n",
       "    </tr>\n",
       "    <tr>\n",
       "      <th>4</th>\n",
       "      <td>abatement</td>\n",
       "      <td>forest region</td>\n",
       "      <td>0.00</td>\n",
       "      <td>HUMAN NECESSITIES. FURNITURE; DOMESTIC ARTICLE...</td>\n",
       "    </tr>\n",
       "    <tr>\n",
       "      <th>...</th>\n",
       "      <td>...</td>\n",
       "      <td>...</td>\n",
       "      <td>...</td>\n",
       "      <td>...</td>\n",
       "    </tr>\n",
       "    <tr>\n",
       "      <th>72941</th>\n",
       "      <td>wood article</td>\n",
       "      <td>wooden article</td>\n",
       "      <td>1.00</td>\n",
       "      <td>TRANSPORTING PERFORMING OPERATIONS DECORATIVE ...</td>\n",
       "    </tr>\n",
       "    <tr>\n",
       "      <th>72942</th>\n",
       "      <td>wood article</td>\n",
       "      <td>wooden box</td>\n",
       "      <td>0.50</td>\n",
       "      <td>TRANSPORTING PERFORMING OPERATIONS DECORATIVE ...</td>\n",
       "    </tr>\n",
       "    <tr>\n",
       "      <th>72943</th>\n",
       "      <td>wood article</td>\n",
       "      <td>wooden handle</td>\n",
       "      <td>0.50</td>\n",
       "      <td>TRANSPORTING PERFORMING OPERATIONS DECORATIVE ...</td>\n",
       "    </tr>\n",
       "    <tr>\n",
       "      <th>72944</th>\n",
       "      <td>wood article</td>\n",
       "      <td>wooden material</td>\n",
       "      <td>0.75</td>\n",
       "      <td>DECORATIVE ARTS TRANSPORTING PERFORMING OPERAT...</td>\n",
       "    </tr>\n",
       "    <tr>\n",
       "      <th>72945</th>\n",
       "      <td>wood article</td>\n",
       "      <td>wooden substrate</td>\n",
       "      <td>0.50</td>\n",
       "      <td>TRANSPORTING DECORATIVE ARTS PERFORMING OPERAT...</td>\n",
       "    </tr>\n",
       "  </tbody>\n",
       "</table>\n",
       "<p>72946 rows × 4 columns</p>\n",
       "</div>"
      ],
      "text/plain": [
       "             anchor                  target  score  \\\n",
       "0         abatement  abatement of pollution   0.50   \n",
       "1         abatement          act of abating   0.75   \n",
       "2         abatement         active catalyst   0.25   \n",
       "3         abatement     eliminating process   0.50   \n",
       "4         abatement           forest region   0.00   \n",
       "...             ...                     ...    ...   \n",
       "72941  wood article          wooden article   1.00   \n",
       "72942  wood article              wooden box   0.50   \n",
       "72943  wood article           wooden handle   0.50   \n",
       "72944  wood article         wooden material   0.75   \n",
       "72945  wood article        wooden substrate   0.50   \n",
       "\n",
       "                                            context_text  \n",
       "0      HUMAN NECESSITIES. FURNITURE; DOMESTIC ARTICLE...  \n",
       "1      HUMAN NECESSITIES. FURNITURE; DOMESTIC ARTICLE...  \n",
       "2      HUMAN NECESSITIES. FURNITURE; DOMESTIC ARTICLE...  \n",
       "3      HUMAN NECESSITIES. FURNITURE; DOMESTIC ARTICLE...  \n",
       "4      HUMAN NECESSITIES. FURNITURE; DOMESTIC ARTICLE...  \n",
       "...                                                  ...  \n",
       "72941  TRANSPORTING PERFORMING OPERATIONS DECORATIVE ...  \n",
       "72942  TRANSPORTING PERFORMING OPERATIONS DECORATIVE ...  \n",
       "72943  TRANSPORTING PERFORMING OPERATIONS DECORATIVE ...  \n",
       "72944  DECORATIVE ARTS TRANSPORTING PERFORMING OPERAT...  \n",
       "72945  TRANSPORTING DECORATIVE ARTS PERFORMING OPERAT...  \n",
       "\n",
       "[72946 rows x 4 columns]"
      ]
     },
     "execution_count": 12,
     "metadata": {},
     "output_type": "execute_result"
    }
   ],
   "source": [
    "train_shuffled"
   ]
  },
  {
   "cell_type": "code",
   "execution_count": 13,
   "id": "4396b568-5e99-4d50-bf3e-2753eff31506",
   "metadata": {},
   "outputs": [],
   "source": [
    "raw_cnt = train_shuffled.shape[0]"
   ]
  },
  {
   "cell_type": "code",
   "execution_count": 14,
   "id": "a4fbfd47-1d99-4ac9-8147-fa999a91eba1",
   "metadata": {},
   "outputs": [
    {
     "name": "stdout",
     "output_type": "stream",
     "text": [
      "0\n",
      "5000\n",
      "10000\n",
      "15000\n",
      "20000\n",
      "25000\n",
      "30000\n",
      "35000\n"
     ]
    }
   ],
   "source": [
    "for i in range(int(raw_cnt/2)):\n",
    "    if i%5000 == 0:\n",
    "        print(i)\n",
    "    con_words = train_shuffled.loc[i]['context_text'].split(' ')\n",
    "    cnt_con_words = len(con_words)\n",
    "    for k in range(cnt_con_words):\n",
    "        rdt = random.randint(1, 999)\n",
    "        if rdt%2 == 0:\n",
    "            con_words[k] = '[MASK]'\n",
    "    context_generated = ''\n",
    "    for j in range(cnt_con_words):\n",
    "        context_generated += con_words[j]\n",
    "        context_generated += ' '\n",
    "    context_generated.strip()\n",
    "    train_shuffled.loc[raw_cnt+i] = {'anchor':train_shuffled.loc[i]['anchor'],'target':train_shuffled.loc[i]['target'],\\\n",
    "                            'score':train_shuffled.loc[i]['score'],'context_text':context_generated}"
   ]
  },
  {
   "cell_type": "code",
   "execution_count": 15,
   "id": "fdd82527-7e4a-4e33-b978-e2e8192f5a81",
   "metadata": {},
   "outputs": [
    {
     "data": {
      "text/html": [
       "<div>\n",
       "<style scoped>\n",
       "    .dataframe tbody tr th:only-of-type {\n",
       "        vertical-align: middle;\n",
       "    }\n",
       "\n",
       "    .dataframe tbody tr th {\n",
       "        vertical-align: top;\n",
       "    }\n",
       "\n",
       "    .dataframe thead th {\n",
       "        text-align: right;\n",
       "    }\n",
       "</style>\n",
       "<table border=\"1\" class=\"dataframe\">\n",
       "  <thead>\n",
       "    <tr style=\"text-align: right;\">\n",
       "      <th></th>\n",
       "      <th>anchor</th>\n",
       "      <th>target</th>\n",
       "      <th>score</th>\n",
       "      <th>context_text</th>\n",
       "    </tr>\n",
       "  </thead>\n",
       "  <tbody>\n",
       "    <tr>\n",
       "      <th>0</th>\n",
       "      <td>abatement</td>\n",
       "      <td>abatement of pollution</td>\n",
       "      <td>0.50</td>\n",
       "      <td>HUMAN NECESSITIES. FURNITURE; DOMESTIC ARTICLE...</td>\n",
       "    </tr>\n",
       "    <tr>\n",
       "      <th>1</th>\n",
       "      <td>abatement</td>\n",
       "      <td>act of abating</td>\n",
       "      <td>0.75</td>\n",
       "      <td>HUMAN NECESSITIES. FURNITURE; DOMESTIC ARTICLE...</td>\n",
       "    </tr>\n",
       "    <tr>\n",
       "      <th>2</th>\n",
       "      <td>abatement</td>\n",
       "      <td>active catalyst</td>\n",
       "      <td>0.25</td>\n",
       "      <td>HUMAN NECESSITIES. FURNITURE; DOMESTIC ARTICLE...</td>\n",
       "    </tr>\n",
       "    <tr>\n",
       "      <th>3</th>\n",
       "      <td>abatement</td>\n",
       "      <td>eliminating process</td>\n",
       "      <td>0.50</td>\n",
       "      <td>HUMAN NECESSITIES. FURNITURE; DOMESTIC ARTICLE...</td>\n",
       "    </tr>\n",
       "    <tr>\n",
       "      <th>4</th>\n",
       "      <td>abatement</td>\n",
       "      <td>forest region</td>\n",
       "      <td>0.00</td>\n",
       "      <td>HUMAN NECESSITIES. FURNITURE; DOMESTIC ARTICLE...</td>\n",
       "    </tr>\n",
       "    <tr>\n",
       "      <th>...</th>\n",
       "      <td>...</td>\n",
       "      <td>...</td>\n",
       "      <td>...</td>\n",
       "      <td>...</td>\n",
       "    </tr>\n",
       "    <tr>\n",
       "      <th>109414</th>\n",
       "      <td>wood article</td>\n",
       "      <td>wooden article</td>\n",
       "      <td>1.00</td>\n",
       "      <td>PERFORMING [MASK] TRANSPORTING. [MASK] [MASK]</td>\n",
       "    </tr>\n",
       "    <tr>\n",
       "      <th>109415</th>\n",
       "      <td>wood article</td>\n",
       "      <td>wooden box</td>\n",
       "      <td>0.50</td>\n",
       "      <td>PERFORMING OPERATIONS; [MASK] DECORATIVE [MASK]</td>\n",
       "    </tr>\n",
       "    <tr>\n",
       "      <th>109416</th>\n",
       "      <td>wood article</td>\n",
       "      <td>wooden handle</td>\n",
       "      <td>0.50</td>\n",
       "      <td>PERFORMING OPERATIONS; [MASK] [MASK] ARTS</td>\n",
       "    </tr>\n",
       "    <tr>\n",
       "      <th>109417</th>\n",
       "      <td>wood article</td>\n",
       "      <td>wooden material</td>\n",
       "      <td>0.75</td>\n",
       "      <td>PERFORMING [MASK] TRANSPORTING. [MASK] ARTS</td>\n",
       "    </tr>\n",
       "    <tr>\n",
       "      <th>109418</th>\n",
       "      <td>wood article</td>\n",
       "      <td>wooden substrate</td>\n",
       "      <td>0.50</td>\n",
       "      <td>[MASK] [MASK] [MASK] [MASK] ARTS</td>\n",
       "    </tr>\n",
       "  </tbody>\n",
       "</table>\n",
       "<p>109419 rows × 4 columns</p>\n",
       "</div>"
      ],
      "text/plain": [
       "              anchor                  target  score  \\\n",
       "0          abatement  abatement of pollution   0.50   \n",
       "1          abatement          act of abating   0.75   \n",
       "2          abatement         active catalyst   0.25   \n",
       "3          abatement     eliminating process   0.50   \n",
       "4          abatement           forest region   0.00   \n",
       "...              ...                     ...    ...   \n",
       "109414  wood article          wooden article   1.00   \n",
       "109415  wood article              wooden box   0.50   \n",
       "109416  wood article           wooden handle   0.50   \n",
       "109417  wood article         wooden material   0.75   \n",
       "109418  wood article        wooden substrate   0.50   \n",
       "\n",
       "                                             context_text  \n",
       "0       HUMAN NECESSITIES. FURNITURE; DOMESTIC ARTICLE...  \n",
       "1       HUMAN NECESSITIES. FURNITURE; DOMESTIC ARTICLE...  \n",
       "2       HUMAN NECESSITIES. FURNITURE; DOMESTIC ARTICLE...  \n",
       "3       HUMAN NECESSITIES. FURNITURE; DOMESTIC ARTICLE...  \n",
       "4       HUMAN NECESSITIES. FURNITURE; DOMESTIC ARTICLE...  \n",
       "...                                                   ...  \n",
       "109414     PERFORMING [MASK] TRANSPORTING. [MASK] [MASK]   \n",
       "109415   PERFORMING OPERATIONS; [MASK] DECORATIVE [MASK]   \n",
       "109416         PERFORMING OPERATIONS; [MASK] [MASK] ARTS   \n",
       "109417       PERFORMING [MASK] TRANSPORTING. [MASK] ARTS   \n",
       "109418                  [MASK] [MASK] [MASK] [MASK] ARTS   \n",
       "\n",
       "[109419 rows x 4 columns]"
      ]
     },
     "execution_count": 15,
     "metadata": {},
     "output_type": "execute_result"
    }
   ],
   "source": [
    "train_shuffled"
   ]
  },
  {
   "cell_type": "code",
   "execution_count": 17,
   "id": "eb2aa7fe-2cd0-4db5-afb2-d71817763f64",
   "metadata": {},
   "outputs": [],
   "source": [
    "train_shuffled.to_csv('./data/train_shuffled_masked.csv',index=False)"
   ]
  },
  {
   "cell_type": "code",
   "execution_count": null,
   "id": "a294aa7e-8ad6-4aff-be34-0e36690f2583",
   "metadata": {},
   "outputs": [],
   "source": []
  }
 ],
 "metadata": {
  "kernelspec": {
   "display_name": "Python 3 (ipykernel)",
   "language": "python",
   "name": "python3"
  },
  "language_info": {
   "codemirror_mode": {
    "name": "ipython",
    "version": 3
   },
   "file_extension": ".py",
   "mimetype": "text/x-python",
   "name": "python",
   "nbconvert_exporter": "python",
   "pygments_lexer": "ipython3",
   "version": "3.8.10"
  }
 },
 "nbformat": 4,
 "nbformat_minor": 5
}
